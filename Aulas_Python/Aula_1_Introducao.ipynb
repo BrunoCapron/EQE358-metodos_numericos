{
  "nbformat": 4,
  "nbformat_minor": 0,
  "metadata": {
    "colab": {
      "provenance": []
    },
    "kernelspec": {
      "name": "python3",
      "display_name": "Python 3"
    },
    "language_info": {
      "name": "python"
    }
  },
  "cells": [
    {
      "cell_type": "markdown",
      "source": [
        "<a target=\"_blank\" href=\"https://colab.research.google.com/github/BrunoCapron/EQE358-metodos_numericos/blob/main/Aulas_Python/Aula_1_Introducao.ipynb\">\n",
        "  <img src=\"https://colab.research.google.com/assets/colab-badge.svg\" alt=\"Open In Colab\"/>\n",
        "</a>"
      ],
      "metadata": {
        "id": "6l22mCzF2Koi"
      }
    },
    {
      "cell_type": "markdown",
      "source": [
        "# Aula 01: Bem-Vindos à EQE 358 - Métodos Numéricos\n",
        "\n",
        "Nesta primeira aula vamos aprender as diferentes maneiras de utilizar o Python como uma calculadora simples para operações comuns da matemática.  \n",
        "\n",
        "\n",
        "\n",
        "\n"
      ],
      "metadata": {
        "id": "xCmAABQlPyEc"
      }
    },
    {
      "cell_type": "markdown",
      "source": [
        "## 1. Tipos de Dados\n",
        "\n",
        "\n",
        "\n",
        "*   **`int`**: Números inteiros (ex.: $1, 2, 3, ...$)\n",
        "*   **`float`**: Números decimais (ex.: $ 2.5, 7.56, 3.1415...$)\n",
        "*   **`complex`**: Números complexos (ex.: $ 5+3j, 5-3j$)\n",
        "\n",
        "<br>\n",
        "\n",
        "---\n",
        "\n",
        "\n",
        "*Atenção! Python representa a parte imaginária por $j$ ao invés de $i$*\n",
        "\n",
        "\n",
        "---\n",
        "\n",
        "<br>\n",
        "\n",
        "Você pode usar a função `type()` para descobrir o tipo de um dado."
      ],
      "metadata": {
        "id": "jY-aJXiSEn0N"
      }
    },
    {
      "cell_type": "code",
      "source": [
        "type(1234)"
      ],
      "metadata": {
        "id": "EHTpNKJ1HG2X",
        "outputId": "02b87a7c-2f91-439e-e64d-6e6f619a5ae3",
        "colab": {
          "base_uri": "https://localhost:8080/"
        }
      },
      "execution_count": 1,
      "outputs": [
        {
          "output_type": "execute_result",
          "data": {
            "text/plain": [
              "int"
            ]
          },
          "metadata": {},
          "execution_count": 1
        }
      ]
    },
    {
      "cell_type": "code",
      "source": [
        "type(3.1415)"
      ],
      "metadata": {
        "id": "froPBzibHK9_",
        "outputId": "99eab7fb-4fa1-4986-d816-941530e49005",
        "colab": {
          "base_uri": "https://localhost:8080/"
        }
      },
      "execution_count": 2,
      "outputs": [
        {
          "output_type": "execute_result",
          "data": {
            "text/plain": [
              "float"
            ]
          },
          "metadata": {},
          "execution_count": 2
        }
      ]
    },
    {
      "cell_type": "code",
      "source": [
        "type(5+3j)"
      ],
      "metadata": {
        "id": "2g6KeGgMHOjX",
        "outputId": "1f8c737c-e7fd-4249-83be-dd44c7bbadeb",
        "colab": {
          "base_uri": "https://localhost:8080/"
        }
      },
      "execution_count": 3,
      "outputs": [
        {
          "output_type": "execute_result",
          "data": {
            "text/plain": [
              "complex"
            ]
          },
          "metadata": {},
          "execution_count": 3
        }
      ]
    },
    {
      "cell_type": "markdown",
      "source": [
        "## 2. Operações Aritméticas\n",
        "\n",
        "\n",
        "\n",
        "---\n",
        "\n",
        "\n",
        "**Exemplo:** Calcule a soma $9+5$.\n",
        "\n",
        "\n",
        "---"
      ],
      "metadata": {
        "id": "EeXXrkulEhK2"
      }
    },
    {
      "cell_type": "code",
      "source": [
        "9+5"
      ],
      "metadata": {
        "id": "FKrh1DGgtf9Z",
        "outputId": "799dcf7d-abf0-46ef-8bb1-cf6b38b96168",
        "colab": {
          "base_uri": "https://localhost:8080/"
        }
      },
      "execution_count": 4,
      "outputs": [
        {
          "output_type": "execute_result",
          "data": {
            "text/plain": [
              "14"
            ]
          },
          "metadata": {},
          "execution_count": 4
        }
      ]
    },
    {
      "cell_type": "markdown",
      "source": [
        "---\n",
        "\n",
        "\n",
        "**Exemplo:** Calcule a multiplicação $7 \\times 8$.\n",
        "\n",
        "\n",
        "---"
      ],
      "metadata": {
        "id": "X3EzMwHeyDXf"
      }
    },
    {
      "cell_type": "code",
      "source": [
        "7*8"
      ],
      "metadata": {
        "id": "l0dj0LVYyPDu",
        "outputId": "6e8908bf-da18-4a64-b000-b977acb03e17",
        "colab": {
          "base_uri": "https://localhost:8080/"
        }
      },
      "execution_count": 5,
      "outputs": [
        {
          "output_type": "execute_result",
          "data": {
            "text/plain": [
              "56"
            ]
          },
          "metadata": {},
          "execution_count": 5
        }
      ]
    },
    {
      "cell_type": "markdown",
      "source": [
        "---\n",
        "\n",
        "\n",
        "**Exemplo:** Calcule a divisão $ 72 \\div 3$.\n",
        "\n",
        "\n",
        "---"
      ],
      "metadata": {
        "id": "wj0PM3AFy4M_"
      }
    },
    {
      "cell_type": "code",
      "source": [
        "72/3"
      ],
      "metadata": {
        "id": "T_VoXj4kzGAX",
        "outputId": "50d4d1eb-208b-46a6-90ec-26847cff42d0",
        "colab": {
          "base_uri": "https://localhost:8080/"
        }
      },
      "execution_count": 6,
      "outputs": [
        {
          "output_type": "execute_result",
          "data": {
            "text/plain": [
              "24.0"
            ]
          },
          "metadata": {},
          "execution_count": 6
        }
      ]
    },
    {
      "cell_type": "markdown",
      "source": [
        "---\n",
        "\n",
        "\n",
        "**Exemplo:** Calcule a exponenciação $2^{10}$.\n",
        "\n",
        "\n",
        "---"
      ],
      "metadata": {
        "id": "rlB2SrVNVMJS"
      }
    },
    {
      "cell_type": "code",
      "source": [
        "2**10"
      ],
      "metadata": {
        "id": "ie5FqgdMVbwJ",
        "outputId": "ba52b096-cc50-499c-f126-30ea7b11f6b3",
        "colab": {
          "base_uri": "https://localhost:8080/"
        }
      },
      "execution_count": 7,
      "outputs": [
        {
          "output_type": "execute_result",
          "data": {
            "text/plain": [
              "1024"
            ]
          },
          "metadata": {},
          "execution_count": 7
        }
      ]
    },
    {
      "cell_type": "markdown",
      "source": [
        "\n",
        "\n",
        "---\n",
        "\n",
        "\n",
        "**Exemplo:** Calcule $\\frac{3 × 4}{(2^2)+4/2}$\n",
        "\n",
        "\n",
        "---\n",
        "\n"
      ],
      "metadata": {
        "id": "TnmDQ2CruAWB"
      }
    },
    {
      "cell_type": "code",
      "source": [
        "(3*4)/(2**2+4/2)"
      ],
      "metadata": {
        "id": "r58PEv-7t8jA",
        "outputId": "5bf40bf3-f799-4833-bed6-5109245cc189",
        "colab": {
          "base_uri": "https://localhost:8080/"
        }
      },
      "execution_count": 8,
      "outputs": [
        {
          "output_type": "execute_result",
          "data": {
            "text/plain": [
              "2.0"
            ]
          },
          "metadata": {},
          "execution_count": 8
        }
      ]
    },
    {
      "cell_type": "markdown",
      "source": [
        "\n",
        "\n",
        "---\n",
        "\n",
        "\n",
        "**Exemplo:** Calcule $3$ dividido por $4$, depois multiplique o resultado por $2$, depois eleve o resultado ao cubo.\n",
        "\n",
        "\n",
        "---\n",
        "\n"
      ],
      "metadata": {
        "id": "mnxt4XGDvSpD"
      }
    },
    {
      "cell_type": "code",
      "source": [
        "3/4"
      ],
      "metadata": {
        "id": "_cgNnh-BvlsZ",
        "outputId": "580cbdf6-bc02-4757-fd64-e03c9bc8b8d4",
        "colab": {
          "base_uri": "https://localhost:8080/"
        }
      },
      "execution_count": 9,
      "outputs": [
        {
          "output_type": "execute_result",
          "data": {
            "text/plain": [
              "0.75"
            ]
          },
          "metadata": {},
          "execution_count": 9
        }
      ]
    },
    {
      "cell_type": "code",
      "source": [
        "_*2 # underline _ é só uma convenção do shell para guardar o resultado anterior."
      ],
      "metadata": {
        "id": "ebLD-yxJvoHQ",
        "outputId": "596d0f91-6e6c-47b1-ffaa-e40db8498d72",
        "colab": {
          "base_uri": "https://localhost:8080/"
        }
      },
      "execution_count": 10,
      "outputs": [
        {
          "output_type": "execute_result",
          "data": {
            "text/plain": [
              "1.5"
            ]
          },
          "metadata": {},
          "execution_count": 10
        }
      ]
    },
    {
      "cell_type": "code",
      "source": [
        "_**3"
      ],
      "metadata": {
        "id": "M4N2k2rcvnxR",
        "outputId": "6707bee1-b055-4681-e1b7-e45cfbc0963c",
        "colab": {
          "base_uri": "https://localhost:8080/"
        }
      },
      "execution_count": 11,
      "outputs": [
        {
          "output_type": "execute_result",
          "data": {
            "text/plain": [
              "3.375"
            ]
          },
          "metadata": {},
          "execution_count": 11
        }
      ]
    },
    {
      "cell_type": "markdown",
      "source": [
        "---\n",
        "\n",
        "\n",
        "**DICA!** O Python vai indicar um `ZeroDivisionError` quando a expressão $1/0$ aparecer.\n",
        "\n",
        "\n",
        "---\n",
        "\n",
        "\n",
        "\n",
        "\n",
        "\n"
      ],
      "metadata": {
        "id": "BmExh9PRwPLU"
      }
    },
    {
      "cell_type": "code",
      "source": [
        "1/0"
      ],
      "metadata": {
        "id": "OnA2wdPqz1Kh",
        "colab": {
          "base_uri": "https://localhost:8080/",
          "height": 141
        },
        "outputId": "22930f85-0f3b-4558-8407-ba646fbe9b02"
      },
      "execution_count": 12,
      "outputs": [
        {
          "output_type": "error",
          "ename": "ZeroDivisionError",
          "evalue": "division by zero",
          "traceback": [
            "\u001b[0;31m---------------------------------------------------------------------------\u001b[0m",
            "\u001b[0;31mZeroDivisionError\u001b[0m                         Traceback (most recent call last)",
            "\u001b[0;32m/tmp/ipython-input-2354412189.py\u001b[0m in \u001b[0;36m<cell line: 0>\u001b[0;34m()\u001b[0m\n\u001b[0;32m----> 1\u001b[0;31m \u001b[0;36m1\u001b[0m\u001b[0;34m/\u001b[0m\u001b[0;36m0\u001b[0m\u001b[0;34m\u001b[0m\u001b[0;34m\u001b[0m\u001b[0m\n\u001b[0m",
            "\u001b[0;31mZeroDivisionError\u001b[0m: division by zero"
          ]
        }
      ]
    },
    {
      "cell_type": "markdown",
      "source": [
        "\n",
        "\n",
        "---\n",
        "\n",
        "**Exemplo:** Calcule a soma $(5+3j)+(7-j)$\n",
        "\n",
        "\n",
        "---\n",
        "\n"
      ],
      "metadata": {
        "id": "IdC0vuwKHc02"
      }
    },
    {
      "cell_type": "code",
      "source": [
        "(5+3j) + (7-1j)"
      ],
      "metadata": {
        "id": "tKIylNMpHcYW",
        "outputId": "08a3972c-afcc-4898-febb-fd0f58b2d989",
        "colab": {
          "base_uri": "https://localhost:8080/"
        }
      },
      "execution_count": 13,
      "outputs": [
        {
          "output_type": "execute_result",
          "data": {
            "text/plain": [
              "(12+2j)"
            ]
          },
          "metadata": {},
          "execution_count": 13
        }
      ]
    },
    {
      "cell_type": "code",
      "source": [
        "complex(5,3)+complex(7,-1)"
      ],
      "metadata": {
        "id": "uGx_8UavIWGW",
        "outputId": "f2b0e0be-2fa4-44ab-d1c8-b21c126f1033",
        "colab": {
          "base_uri": "https://localhost:8080/"
        }
      },
      "execution_count": 14,
      "outputs": [
        {
          "output_type": "execute_result",
          "data": {
            "text/plain": [
              "(12+2j)"
            ]
          },
          "metadata": {},
          "execution_count": 14
        }
      ]
    },
    {
      "cell_type": "markdown",
      "source": [
        "## 3. Notação Científica\n",
        "\n",
        "A notação científica pode ser utilizada através da letra $e$ entre dois números. Por exemplo, $1e6 = 1,000,000$, enquanto $1e-3=0.001$.\n",
        "\n",
        "<br>\n",
        "\n",
        "---\n",
        "**Exemplo:**  Calcule o número de segundos em 3 anos usando notação científica.\n",
        "\n",
        "---\n",
        "\n",
        "\n"
      ],
      "metadata": {
        "id": "Zzq2mx2x2qpb"
      }
    },
    {
      "cell_type": "code",
      "source": [
        "(3e0)*(3.65e2)*(2.4e1)*(3.6e3) # anos (3) * dias/ano (365) * horas/dia (24h) * seg/hora (3600)"
      ],
      "metadata": {
        "id": "teWVafwt4WNB",
        "outputId": "2ffc5485-097e-472a-b6b9-9a946a10cae6",
        "colab": {
          "base_uri": "https://localhost:8080/"
        }
      },
      "execution_count": 15,
      "outputs": [
        {
          "output_type": "execute_result",
          "data": {
            "text/plain": [
              "94608000.0"
            ]
          },
          "metadata": {},
          "execution_count": 15
        }
      ]
    },
    {
      "cell_type": "markdown",
      "source": [
        "## 4. Módulo Math\n",
        "\n",
        "Para utilizar algumas funções aritméticas básicas como `sin`, `cos`, `tan`, `asin`, `acos`,`exp`, `log`, `log10` ou `sqrt`, é necessário importar um módulo chamado `math`."
      ],
      "metadata": {
        "id": "UEHxsb9ZI5HX"
      }
    },
    {
      "cell_type": "code",
      "source": [
        "import math"
      ],
      "metadata": {
        "id": "qV2lJ4qqKSAJ"
      },
      "execution_count": 16,
      "outputs": []
    },
    {
      "cell_type": "markdown",
      "source": [
        "Para executar essas funções, basta utilizar o comando adequado seguindo o formato `modulo.funcao`"
      ],
      "metadata": {
        "id": "5T6EmB8bNvOA"
      }
    },
    {
      "cell_type": "markdown",
      "source": [
        "\n",
        "\n",
        "---\n",
        "\n",
        "**Exemplo:** Calcule $\\sqrt{4}$ usando a função `math.sqrt()`\n",
        "\n",
        "---\n",
        "\n"
      ],
      "metadata": {
        "id": "aseF4OEzKdJn"
      }
    },
    {
      "cell_type": "code",
      "source": [
        "math.sqrt(4)"
      ],
      "metadata": {
        "id": "dN92WdgFKWzK",
        "outputId": "00fb6115-9fb2-485e-9aca-9bd7791d1dde",
        "colab": {
          "base_uri": "https://localhost:8080/"
        }
      },
      "execution_count": 17,
      "outputs": [
        {
          "output_type": "execute_result",
          "data": {
            "text/plain": [
              "2.0"
            ]
          },
          "metadata": {},
          "execution_count": 17
        }
      ]
    },
    {
      "cell_type": "markdown",
      "source": [
        "---\n",
        "\n",
        "**Exemplo:** Calcule $sin(\\pi/2)$. Observe que `math.pi`$=\\pi$\n",
        "\n",
        "---"
      ],
      "metadata": {
        "id": "0LPqX9_QKw0X"
      }
    },
    {
      "cell_type": "code",
      "source": [
        "math.sin(math.pi/2)"
      ],
      "metadata": {
        "id": "S6_34BgDKa8P",
        "outputId": "7ea34eff-e0a7-49c1-a075-aa3b09f95dfa",
        "colab": {
          "base_uri": "https://localhost:8080/"
        }
      },
      "execution_count": 18,
      "outputs": [
        {
          "output_type": "execute_result",
          "data": {
            "text/plain": [
              "1.0"
            ]
          },
          "metadata": {},
          "execution_count": 18
        }
      ]
    },
    {
      "cell_type": "markdown",
      "source": [
        "---\n",
        "\n",
        "**Exemplo:** Calcule $e^{\\frac{3}{4}}$ usando a função `math.exp()`.\n",
        "\n",
        "---\n"
      ],
      "metadata": {
        "id": "NoBdQgi9NNXY"
      }
    },
    {
      "cell_type": "code",
      "source": [
        "math.exp(3/4)"
      ],
      "metadata": {
        "id": "uyvPC32JM42g",
        "outputId": "c0221c43-9ccc-4d3d-b8cc-3b4f15f49365",
        "colab": {
          "base_uri": "https://localhost:8080/"
        }
      },
      "execution_count": 19,
      "outputs": [
        {
          "output_type": "execute_result",
          "data": {
            "text/plain": [
              "2.117000016612675"
            ]
          },
          "metadata": {},
          "execution_count": 19
        }
      ]
    },
    {
      "cell_type": "markdown",
      "source": [
        "---\n",
        "\n",
        "**Exemplo:** Calcule $e^{\\ln10}$.\n",
        "\n",
        "---\n"
      ],
      "metadata": {
        "id": "DtIcfk7mLegA"
      }
    },
    {
      "cell_type": "code",
      "source": [
        "math.exp(math.log(10))"
      ],
      "metadata": {
        "id": "lN0bV0oILHzH",
        "outputId": "d19bffbf-c037-4d1c-94ac-96b3ad8a4175",
        "colab": {
          "base_uri": "https://localhost:8080/"
        }
      },
      "execution_count": 20,
      "outputs": [
        {
          "output_type": "execute_result",
          "data": {
            "text/plain": [
              "10.000000000000002"
            ]
          },
          "metadata": {},
          "execution_count": 20
        }
      ]
    },
    {
      "cell_type": "markdown",
      "source": [
        "**Importante.** Observe que o Python retorna:\n",
        "\n",
        "```\n",
        "10.000000000000002\n",
        "```\n",
        "\n",
        "isso acontece por causa de **limitações de precisão**:\n",
        "O Python (e praticamente todas as linguagens) usam o padrão IEEE 754 para representar números de ponto flutuante (64 bits no float padrão) . \\\\\n",
        "Assim, o computador guarda números em **binário com bits limitados**, então nem todos os valores são exatos.\n",
        "\n",
        "O `math.log(10)` já é uma **aproximação**, e quando aplicamos `math.exp(...)` essa pequena diferença aparece no resultado final.\n",
        "\n",
        "Para mostrar como `10`, basta arredondar:\n",
        "\n",
        "```python\n",
        "round(math.exp(math.log(10)), 10)\n",
        "```"
      ],
      "metadata": {
        "id": "NuuUd648qWaD"
      }
    },
    {
      "cell_type": "markdown",
      "source": [
        "Observe que a função `math.log` em Python é o logaritmo neperiano (ou natural) $\\log_{e}$, enquanto o $\\log_{10}$ é dado pela função `math.log10`.  "
      ],
      "metadata": {
        "id": "v4Iw9XWIM4Cg"
      }
    },
    {
      "cell_type": "markdown",
      "source": [
        "\n",
        "\n",
        "---\n",
        "**Exemplo:** Calcule $1/\\infty$ usando a função `math.inf`\n",
        "\n",
        "---\n",
        "\n"
      ],
      "metadata": {
        "id": "Ewz2WtHjPh9A"
      }
    },
    {
      "cell_type": "code",
      "source": [
        "1/math.inf"
      ],
      "metadata": {
        "id": "cf1bZgA5Ng2w",
        "outputId": "259a5994-8c68-44cf-c46b-d75eb129bc92",
        "colab": {
          "base_uri": "https://localhost:8080/"
        }
      },
      "execution_count": 21,
      "outputs": [
        {
          "output_type": "execute_result",
          "data": {
            "text/plain": [
              "0.0"
            ]
          },
          "metadata": {},
          "execution_count": 21
        }
      ]
    },
    {
      "cell_type": "markdown",
      "source": [
        "---\n",
        "**Exemplo:** Calcule $\\infty \\times 2$ usando a função `math.inf`\n",
        "\n",
        "---"
      ],
      "metadata": {
        "id": "wqUyFDSUS5YR"
      }
    },
    {
      "cell_type": "code",
      "source": [
        "math.inf * 2"
      ],
      "metadata": {
        "id": "HTPtmwDoP-in",
        "outputId": "294c5c8c-922f-4f27-b239-3236e5944ef0",
        "colab": {
          "base_uri": "https://localhost:8080/"
        }
      },
      "execution_count": 22,
      "outputs": [
        {
          "output_type": "execute_result",
          "data": {
            "text/plain": [
              "inf"
            ]
          },
          "metadata": {},
          "execution_count": 22
        }
      ]
    },
    {
      "cell_type": "markdown",
      "source": [
        "---\n",
        "**Exemplo:** Calcule $\\infty/\\infty$ usando a função `math.inf`\n",
        "\n",
        "---"
      ],
      "metadata": {
        "id": "X5OQDGN6TBoB"
      }
    },
    {
      "cell_type": "code",
      "source": [
        "math.inf/math.inf # ∞ / ∞ é uma forma indeterminada (NotaNumber)"
      ],
      "metadata": {
        "id": "TgzaZfKpQAoW",
        "colab": {
          "base_uri": "https://localhost:8080/"
        },
        "outputId": "5be90422-d14f-4db2-96b1-2b7138382f0e"
      },
      "execution_count": 23,
      "outputs": [
        {
          "output_type": "execute_result",
          "data": {
            "text/plain": [
              "nan"
            ]
          },
          "metadata": {},
          "execution_count": 23
        }
      ]
    },
    {
      "cell_type": "markdown",
      "source": [
        "## 5. Expressões Lógicas e Operadores\n",
        "\n",
        "Uma expressão lógica é uma proposição que pode ser `True` (verdadeira) ou `False` (falsa). Esse tipo de dado é chamado de `boolean` (booleano). Os operadores de **comparação** são usados para construir expressões lógicas que comparam os valores de dois números ou variáveis.\n",
        "\n",
        "Operador   | Descrição        | Exemplo    | Resultados  \n",
        "-----------|----------------- |----------- |----------------\n",
        "   `>`     | `maior`          | `a > b`    | `True`\n",
        "   `>=`    | `maior ou igual` | `a >= b`   | `True`\n",
        "   `<`     | `menor `         | `a < b`    | `True`\n",
        "   `<=`    | `menor ou igual` | `a <= b`   | `True`\n",
        "   `!=`    | `não igual`      | `a != b`   | `True`\n",
        "   `==`    | `igual`          | `a == b`   | `True`\n"
      ],
      "metadata": {
        "id": "7Dc7rCwY1mXX"
      }
    },
    {
      "cell_type": "markdown",
      "source": [
        "### 🔍 Observação importante:\n",
        "\n",
        "No Python, `True` e `False` são valores booleanos, **mas também podem ser usados como números**:\n",
        "\n",
        "```python\n",
        "int(True)   # 1\n",
        "int(False)  # 0\n",
        "```\n",
        "\n",
        "Isso significa que podemos fazer operações matemáticas com eles:\n",
        "\n",
        "```python\n",
        "True + True     # 2\n",
        "True * 10       # 10\n",
        "False * 100     # 0\n",
        "```\n",
        "\n",
        "💡 **Resumo para lembrar:**\n",
        "\n",
        "* `True` se comporta como `1`\n",
        "* `False` se comporta como `0`\n",
        "\n",
        "---"
      ],
      "metadata": {
        "id": "8RJOAovUspdm"
      }
    },
    {
      "cell_type": "code",
      "source": [
        "5 == 4"
      ],
      "metadata": {
        "id": "MVtE1qUuSnwy",
        "outputId": "b0e02af7-813d-40cd-d29f-eb5774001f8a",
        "colab": {
          "base_uri": "https://localhost:8080/"
        }
      },
      "execution_count": 24,
      "outputs": [
        {
          "output_type": "execute_result",
          "data": {
            "text/plain": [
              "False"
            ]
          },
          "metadata": {},
          "execution_count": 24
        }
      ]
    },
    {
      "cell_type": "code",
      "source": [
        "2 < 3"
      ],
      "metadata": {
        "id": "DkTBbeMl8yqh",
        "outputId": "ecb4d013-fb45-4023-8af2-2a7fc151600e",
        "colab": {
          "base_uri": "https://localhost:8080/"
        }
      },
      "execution_count": 25,
      "outputs": [
        {
          "output_type": "execute_result",
          "data": {
            "text/plain": [
              "True"
            ]
          },
          "metadata": {},
          "execution_count": 25
        }
      ]
    },
    {
      "cell_type": "code",
      "source": [
        "(1 + 3) >= (2 + 5)"
      ],
      "metadata": {
        "id": "glkr5u6l87Jh",
        "outputId": "63bc67fe-f4f9-4109-8ffe-82cd627c7256",
        "colab": {
          "base_uri": "https://localhost:8080/"
        }
      },
      "execution_count": 26,
      "outputs": [
        {
          "output_type": "execute_result",
          "data": {
            "text/plain": [
              "False"
            ]
          },
          "metadata": {},
          "execution_count": 26
        }
      ]
    },
    {
      "cell_type": "code",
      "source": [
        "(3 > 2) + (5 > 4)"
      ],
      "metadata": {
        "id": "wF3l4i_I9F-I",
        "outputId": "ad13f9fa-2642-400f-d127-7d6609ed7b27",
        "colab": {
          "base_uri": "https://localhost:8080/"
        }
      },
      "execution_count": 27,
      "outputs": [
        {
          "output_type": "execute_result",
          "data": {
            "text/plain": [
              "2"
            ]
          },
          "metadata": {},
          "execution_count": 27
        }
      ]
    },
    {
      "cell_type": "markdown",
      "source": [
        "Os operadores **lógicos** são os que relacionam duas ou mais expressões lógicas, ou negam a expressão lógica.\n",
        "\n",
        "\n",
        "*   **`and`**: `True` se ambas as expressões são `True` (Adição)\n",
        "*   **`or`**: `True` se uma expressão ou outra for `True` (Alternação)\n",
        "*   **`not`**: `True` se a expressão for `False` (Negação)\n",
        "\n"
      ],
      "metadata": {
        "id": "5GzUnXfn6xyY"
      }
    },
    {
      "cell_type": "code",
      "source": [
        "(3 > 2) and (5 > 4)"
      ],
      "metadata": {
        "id": "vBEnkT8M9Scx",
        "outputId": "1d7fc089-81d2-4818-8684-f9826ddcd6d7",
        "colab": {
          "base_uri": "https://localhost:8080/"
        }
      },
      "execution_count": 28,
      "outputs": [
        {
          "output_type": "execute_result",
          "data": {
            "text/plain": [
              "True"
            ]
          },
          "metadata": {},
          "execution_count": 28
        }
      ]
    },
    {
      "cell_type": "code",
      "source": [
        "(5 > 2) or (10 < 4)"
      ],
      "metadata": {
        "id": "juCzwMrY9Ve6",
        "outputId": "4f50f274-6bea-4d81-9df7-b420548ce1d1",
        "colab": {
          "base_uri": "https://localhost:8080/"
        }
      },
      "execution_count": 29,
      "outputs": [
        {
          "output_type": "execute_result",
          "data": {
            "text/plain": [
              "True"
            ]
          },
          "metadata": {},
          "execution_count": 29
        }
      ]
    },
    {
      "cell_type": "code",
      "source": [
        "not (5 > 2)"
      ],
      "metadata": {
        "id": "31SSyBJO-pPR",
        "outputId": "b4685b0a-c16b-404d-be68-1feaff38b8c9",
        "colab": {
          "base_uri": "https://localhost:8080/"
        }
      },
      "execution_count": 30,
      "outputs": [
        {
          "output_type": "execute_result",
          "data": {
            "text/plain": [
              "False"
            ]
          },
          "metadata": {},
          "execution_count": 30
        }
      ]
    }
  ]
}