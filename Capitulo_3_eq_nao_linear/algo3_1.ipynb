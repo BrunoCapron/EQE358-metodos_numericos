{
  "nbformat": 4,
  "nbformat_minor": 0,
  "metadata": {
    "colab": {
      "provenance": [],
      "history_visible": true,
      "mount_file_id": "1cbWJDHfDVRT0hNZwERf7ur6l9pDC7iuf",
      "authorship_tag": "ABX9TyPSmbhq/6ZzVWT7h9upIy10",
      "include_colab_link": true
    },
    "kernelspec": {
      "name": "python3",
      "display_name": "Python 3"
    },
    "language_info": {
      "name": "python"
    }
  },
  "cells": [
    {
      "cell_type": "markdown",
      "metadata": {
        "id": "view-in-github",
        "colab_type": "text"
      },
      "source": [
        "<a href=\"https://colab.research.google.com/github/BrunoCapron/EQE358-metodos_numericos/blob/main/Capitulo_3_eq_nao_linear/algo3_1.ipynb\" target=\"_parent\"><img src=\"https://colab.research.google.com/assets/colab-badge.svg\" alt=\"Open In Colab\"/></a>"
      ]
    },
    {
      "cell_type": "markdown",
      "source": [
        "<a target=\"_blank\" href=\"https://colab.research.google.com/github/BrunoCapron/EQE358-metodos_numericos/blob/main/Capitulo_3_eq_nao_linear/algo3_1.ipynb\">\n",
        "  <img src=\"https://colab.research.google.com/assets/colab-badge.svg\" alt=\"Open In Colab\"/>\n",
        "</a>\n",
        "\n"
      ],
      "metadata": {
        "id": "i4z2U9JwpX4C"
      }
    },
    {
      "cell_type": "markdown",
      "source": [
        "Resolução de equação não linear por métodos intervalares\n"
      ],
      "metadata": {
        "id": "svyTvRFzpuow"
      }
    },
    {
      "cell_type": "code",
      "execution_count": null,
      "metadata": {
        "id": "E6-5W0J5qzTy",
        "colab": {
          "base_uri": "https://localhost:8080/"
        },
        "outputId": "509cfd0f-2b4c-46ae-c1b5-50e2a76d33b8"
      },
      "outputs": [
        {
          "output_type": "stream",
          "name": "stdout",
          "text": [
            "solucao com método da bissecao:x= 1.4142135623731633 k= 44 delta= 2.8421709430404007e-13\n",
            "de 1000 tentativas, o método da bissecao foi melhor 9vezes\n"
          ]
        }
      ],
      "source": [
        "import random\n",
        "import math\n",
        "\n",
        "# definição de f(x)\n",
        "def myfunc(x):\n",
        "\n",
        "  return x**2 - 2\n",
        "\n",
        "# resolução de f(x) = 0 por método intervalar\n",
        "def met_direto(myfunc, a, b, kmax, epsilon, delta, metodo):\n",
        "\n",
        "  k = 0\n",
        "  delta = b-a\n",
        "  fa= myfunc(a)\n",
        "  fb= myfunc(b)\n",
        "  y= fa\n",
        "\n",
        "  while k < kmax and (delta > epsilon or abs(y) > delta):\n",
        "    if metodo == 'bissecao':\n",
        "      lambd = 1/2\n",
        "    else:\n",
        "      lambd = random.random()\n",
        "\n",
        "    x = a + lambd*(b-a)\n",
        "    y = myfunc(x)\n",
        "    if y*fa > 0:\n",
        "      a = x\n",
        "      fa = y\n",
        "    else:\n",
        "      b = x\n",
        "      fb = y\n",
        "    delta = b-a\n",
        "    k = k+1\n",
        "  return x, k, delta\n",
        "\n",
        "# definição do intervalo de busca\n",
        "a = 0\n",
        "b = 5\n",
        "# definição dos critérios de parada\n",
        "kmax= 1e6\n",
        "epsilon = 1e-12\n",
        "delta = 1e-12\n",
        "\n",
        "# resultado com método da bissecao\n",
        "sol, k, delta = met_direto(myfunc, a, b, kmax, epsilon, delta,'bissecao' )\n",
        "print('solucao com método da bissecao:' + 'x= ' + str(sol) + ' k= ' + str(k) + ' delta= ' + str(delta))\n",
        "\n",
        "# deseja-se determinar a probabilidade em que o método de busca aleatória é melhor\n",
        "\n",
        "# contador de vezes em que o método de busca aleatória é melhor\n",
        "better = 0\n",
        "\n",
        "#roda-se 1000 vezes o alogoritmo 1000 vezes\n",
        "for k in range(1000):\n",
        "  x, k, delta = met_direto(myfunc, a, b, kmax, epsilon, delta,'busca_aleatoria' )\n",
        "  if k < 44:\n",
        "    better = better + 1\n",
        "\n",
        "print('De 1000 tentativas, o método da bissecao foi melhor ' + str(better) + 'vezes')"
      ]
    },
    {
      "cell_type": "markdown",
      "source": [
        "\n"
      ],
      "metadata": {
        "id": "nLyv0fkn3_Lk"
      }
    },
    {
      "cell_type": "code",
      "source": [],
      "metadata": {
        "id": "q4sEQLNE4Brn"
      },
      "execution_count": null,
      "outputs": []
    }
  ]
}