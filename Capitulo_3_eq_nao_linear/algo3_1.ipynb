{
  "nbformat": 4,
  "nbformat_minor": 0,
  "metadata": {
    "colab": {
      "provenance": [],
      "history_visible": true,
      "mount_file_id": "1cbWJDHfDVRT0hNZwERf7ur6l9pDC7iuf",
      "authorship_tag": "ABX9TyPFMVzrGkC0CTahOR8LDNuO",
      "include_colab_link": true
    },
    "kernelspec": {
      "name": "python3",
      "display_name": "Python 3"
    },
    "language_info": {
      "name": "python"
    }
  },
  "cells": [
    {
      "cell_type": "markdown",
      "metadata": {
        "id": "view-in-github",
        "colab_type": "text"
      },
      "source": [
        "<a href=\"https://colab.research.google.com/github/BrunoCapron/EQE358-metodos_numericos/blob/main/Capitulo_3_eq_nao_linear/algo3_1.ipynb\" target=\"_parent\"><img src=\"https://colab.research.google.com/assets/colab-badge.svg\" alt=\"Open In Colab\"/></a>"
      ]
    },
    {
      "cell_type": "markdown",
      "source": [
        "Resolução de equação não linear por métodos intervalares\n"
      ],
      "metadata": {
        "id": "svyTvRFzpuow"
      }
    },
    {
      "cell_type": "code",
      "execution_count": 1,
      "metadata": {
        "id": "E6-5W0J5qzTy",
        "colab": {
          "base_uri": "https://localhost:8080/"
        },
        "outputId": "9d89cf6c-a53f-4fec-e2e7-ccf561a4e4f7"
      },
      "outputs": [
        {
          "output_type": "stream",
          "name": "stdout",
          "text": [
            "solucao com método da bissecao:x= 1.4142135623731633 k= 44 delta= 2.8421709430404007e-13\n"
          ]
        }
      ],
      "source": [
        "import random\n",
        "import math\n",
        "\n",
        "# definição de f(x)\n",
        "def myfunc(x):\n",
        "\n",
        "  return x**2 - 2\n",
        "\n",
        "# resolução de f(x) = 0 por método intervalar\n",
        "def met_direto(myfunc, a, b, kmax, epsilon, delta, metodo):\n",
        "\n",
        "  k = 0\n",
        "  delta = b-a\n",
        "  fa= myfunc(a)\n",
        "  fb= myfunc(b)\n",
        "  y= fa\n",
        "\n",
        "  while k < kmax and (delta > epsilon or abs(y) > delta):\n",
        "    if metodo == 'bissecao':\n",
        "      lambd = 1/2\n",
        "    else:\n",
        "      lambd = random.random()\n",
        "\n",
        "    x = a + lambd*(b-a)\n",
        "    y = myfunc(x)\n",
        "    if y*fa > 0:\n",
        "      a = x\n",
        "      fa = y\n",
        "    else:\n",
        "      b = x\n",
        "      fb = y\n",
        "    delta = b-a\n",
        "    k = k+1\n",
        "  return x, k, delta\n",
        "\n",
        "# definição do intervalo de busca\n",
        "a = 0\n",
        "b = 5\n",
        "# definição dos critérios de parada\n",
        "kmax= 1e6\n",
        "epsilon = 1e-12\n",
        "delta = 1e-12\n",
        "\n",
        "# resultado com método da bissecao\n",
        "sol, k, delta = met_direto(myfunc, a, b, kmax, epsilon, delta,'bissecao' )\n",
        "print('solucao com método da bissecao:' + 'x= ' + str(sol) + ' k= ' + str(k) + ' delta= ' + str(delta))"
      ]
    },
    {
      "cell_type": "markdown",
      "source": [
        "\n"
      ],
      "metadata": {
        "id": "nLyv0fkn3_Lk"
      }
    },
    {
      "cell_type": "code",
      "source": [],
      "metadata": {
        "id": "q4sEQLNE4Brn"
      },
      "execution_count": null,
      "outputs": []
    }
  ]
}